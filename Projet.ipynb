{
 "cells": [
  {
   "cell_type": "code",
   "execution_count": 2,
   "metadata": {},
   "outputs": [
    {
     "name": "stdout",
     "output_type": "stream",
     "text": [
      "Requirement already satisfied: numpy in c:\\users\\alex1\\appdata\\local\\packages\\pythonsoftwarefoundation.python.3.11_qbz5n2kfra8p0\\localcache\\local-packages\\python311\\site-packages (1.26.4)"
     ]
    },
    {
     "name": "stderr",
     "output_type": "stream",
     "text": [
      "\n",
      "[notice] A new release of pip is available: 24.0 -> 25.0\n",
      "[notice] To update, run: C:\\Users\\alex1\\AppData\\Local\\Microsoft\\WindowsApps\\PythonSoftwareFoundation.Python.3.11_qbz5n2kfra8p0\\python.exe -m pip install --upgrade pip\n"
     ]
    },
    {
     "name": "stdout",
     "output_type": "stream",
     "text": [
      "\n",
      "Requirement already satisfied: SPARQLWrapper in c:\\users\\alex1\\appdata\\local\\packages\\pythonsoftwarefoundation.python.3.11_qbz5n2kfra8p0\\localcache\\local-packages\\python311\\site-packages (2.0.0)\n",
      "Requirement already satisfied: rdflib>=6.1.1 in c:\\users\\alex1\\appdata\\local\\packages\\pythonsoftwarefoundation.python.3.11_qbz5n2kfra8p0\\localcache\\local-packages\\python311\\site-packages (from SPARQLWrapper) (7.1.3)\n",
      "Requirement already satisfied: pyparsing<4,>=2.1.0 in c:\\users\\alex1\\appdata\\local\\packages\\pythonsoftwarefoundation.python.3.11_qbz5n2kfra8p0\\localcache\\local-packages\\python311\\site-packages (from rdflib>=6.1.1->SPARQLWrapper) (3.1.2)\n"
     ]
    },
    {
     "name": "stderr",
     "output_type": "stream",
     "text": [
      "\n",
      "[notice] A new release of pip is available: 24.0 -> 25.0\n",
      "[notice] To update, run: C:\\Users\\alex1\\AppData\\Local\\Microsoft\\WindowsApps\\PythonSoftwareFoundation.Python.3.11_qbz5n2kfra8p0\\python.exe -m pip install --upgrade pip\n"
     ]
    },
    {
     "name": "stdout",
     "output_type": "stream",
     "text": [
      "Requirement already satisfied: scikit-learn in c:\\users\\alex1\\appdata\\local\\packages\\pythonsoftwarefoundation.python.3.11_qbz5n2kfra8p0\\localcache\\local-packages\\python311\\site-packages (1.6.1)\n",
      "Requirement already satisfied: numpy>=1.19.5 in c:\\users\\alex1\\appdata\\local\\packages\\pythonsoftwarefoundation.python.3.11_qbz5n2kfra8p0\\localcache\\local-packages\\python311\\site-packages (from scikit-learn) (1.26.4)\n",
      "Requirement already satisfied: scipy>=1.6.0 in c:\\users\\alex1\\appdata\\local\\packages\\pythonsoftwarefoundation.python.3.11_qbz5n2kfra8p0\\localcache\\local-packages\\python311\\site-packages (from scikit-learn) (1.14.1)\n",
      "Requirement already satisfied: joblib>=1.2.0 in c:\\users\\alex1\\appdata\\local\\packages\\pythonsoftwarefoundation.python.3.11_qbz5n2kfra8p0\\localcache\\local-packages\\python311\\site-packages (from scikit-learn) (1.4.2)\n",
      "Requirement already satisfied: threadpoolctl>=3.1.0 in c:\\users\\alex1\\appdata\\local\\packages\\pythonsoftwarefoundation.python.3.11_qbz5n2kfra8p0\\localcache\\local-packages\\python311\\site-packages (from scikit-learn) (3.5.0)\n"
     ]
    },
    {
     "name": "stderr",
     "output_type": "stream",
     "text": [
      "\n",
      "[notice] A new release of pip is available: 24.0 -> 25.0\n",
      "[notice] To update, run: C:\\Users\\alex1\\AppData\\Local\\Microsoft\\WindowsApps\\PythonSoftwareFoundation.Python.3.11_qbz5n2kfra8p0\\python.exe -m pip install --upgrade pip\n",
      "ERROR: Could not find a version that satisfies the requirement PIL (from versions: none)\n",
      "ERROR: No matching distribution found for PIL\n",
      "\n",
      "[notice] A new release of pip is available: 24.0 -> 25.0\n",
      "[notice] To update, run: C:\\Users\\alex1\\AppData\\Local\\Microsoft\\WindowsApps\\PythonSoftwareFoundation.Python.3.11_qbz5n2kfra8p0\\python.exe -m pip install --upgrade pip\n"
     ]
    },
    {
     "name": "stdout",
     "output_type": "stream",
     "text": [
      "Requirement already satisfied: pandas in c:\\users\\alex1\\appdata\\local\\packages\\pythonsoftwarefoundation.python.3.11_qbz5n2kfra8p0\\localcache\\local-packages\\python311\\site-packages (2.2.3)\n",
      "Requirement already satisfied: numpy>=1.23.2 in c:\\users\\alex1\\appdata\\local\\packages\\pythonsoftwarefoundation.python.3.11_qbz5n2kfra8p0\\localcache\\local-packages\\python311\\site-packages (from pandas) (1.26.4)\n",
      "Requirement already satisfied: python-dateutil>=2.8.2 in c:\\users\\alex1\\appdata\\local\\packages\\pythonsoftwarefoundation.python.3.11_qbz5n2kfra8p0\\localcache\\local-packages\\python311\\site-packages (from pandas) (2.9.0.post0)\n",
      "Requirement already satisfied: pytz>=2020.1 in c:\\users\\alex1\\appdata\\local\\packages\\pythonsoftwarefoundation.python.3.11_qbz5n2kfra8p0\\localcache\\local-packages\\python311\\site-packages (from pandas) (2025.1)\n",
      "Requirement already satisfied: tzdata>=2022.7 in c:\\users\\alex1\\appdata\\local\\packages\\pythonsoftwarefoundation.python.3.11_qbz5n2kfra8p0\\localcache\\local-packages\\python311\\site-packages (from pandas) (2025.1)\n",
      "Requirement already satisfied: six>=1.5 in c:\\users\\alex1\\appdata\\local\\packages\\pythonsoftwarefoundation.python.3.11_qbz5n2kfra8p0\\localcache\\local-packages\\python311\\site-packages (from python-dateutil>=2.8.2->pandas) (1.16.0)\n"
     ]
    },
    {
     "name": "stderr",
     "output_type": "stream",
     "text": [
      "\n",
      "[notice] A new release of pip is available: 24.0 -> 25.0\n",
      "[notice] To update, run: C:\\Users\\alex1\\AppData\\Local\\Microsoft\\WindowsApps\\PythonSoftwareFoundation.Python.3.11_qbz5n2kfra8p0\\python.exe -m pip install --upgrade pip\n"
     ]
    },
    {
     "name": "stdout",
     "output_type": "stream",
     "text": [
      "Collecting webcolors\n",
      "  Downloading webcolors-24.11.1-py3-none-any.whl.metadata (2.2 kB)\n",
      "Downloading webcolors-24.11.1-py3-none-any.whl (14 kB)\n",
      "Installing collected packages: webcolors\n",
      "Successfully installed webcolors-24.11.1\n"
     ]
    },
    {
     "name": "stderr",
     "output_type": "stream",
     "text": [
      "\n",
      "[notice] A new release of pip is available: 24.0 -> 25.0\n",
      "[notice] To update, run: C:\\Users\\alex1\\AppData\\Local\\Microsoft\\WindowsApps\\PythonSoftwareFoundation.Python.3.11_qbz5n2kfra8p0\\python.exe -m pip install --upgrade pip\n"
     ]
    },
    {
     "name": "stdout",
     "output_type": "stream",
     "text": [
      "Requirement already satisfied: matplotlib in c:\\users\\alex1\\appdata\\local\\packages\\pythonsoftwarefoundation.python.3.11_qbz5n2kfra8p0\\localcache\\local-packages\\python311\\site-packages (3.9.0)\n",
      "Requirement already satisfied: contourpy>=1.0.1 in c:\\users\\alex1\\appdata\\local\\packages\\pythonsoftwarefoundation.python.3.11_qbz5n2kfra8p0\\localcache\\local-packages\\python311\\site-packages (from matplotlib) (1.2.1)\n",
      "Requirement already satisfied: cycler>=0.10 in c:\\users\\alex1\\appdata\\local\\packages\\pythonsoftwarefoundation.python.3.11_qbz5n2kfra8p0\\localcache\\local-packages\\python311\\site-packages (from matplotlib) (0.12.1)\n",
      "Requirement already satisfied: fonttools>=4.22.0 in c:\\users\\alex1\\appdata\\local\\packages\\pythonsoftwarefoundation.python.3.11_qbz5n2kfra8p0\\localcache\\local-packages\\python311\\site-packages (from matplotlib) (4.53.0)\n",
      "Requirement already satisfied: kiwisolver>=1.3.1 in c:\\users\\alex1\\appdata\\local\\packages\\pythonsoftwarefoundation.python.3.11_qbz5n2kfra8p0\\localcache\\local-packages\\python311\\site-packages (from matplotlib) (1.4.5)\n",
      "Requirement already satisfied: numpy>=1.23 in c:\\users\\alex1\\appdata\\local\\packages\\pythonsoftwarefoundation.python.3.11_qbz5n2kfra8p0\\localcache\\local-packages\\python311\\site-packages (from matplotlib) (1.26.4)\n",
      "Requirement already satisfied: packaging>=20.0 in c:\\users\\alex1\\appdata\\local\\packages\\pythonsoftwarefoundation.python.3.11_qbz5n2kfra8p0\\localcache\\local-packages\\python311\\site-packages (from matplotlib) (24.1)\n",
      "Requirement already satisfied: pillow>=8 in c:\\users\\alex1\\appdata\\local\\packages\\pythonsoftwarefoundation.python.3.11_qbz5n2kfra8p0\\localcache\\local-packages\\python311\\site-packages (from matplotlib) (10.1.0)\n",
      "Requirement already satisfied: pyparsing>=2.3.1 in c:\\users\\alex1\\appdata\\local\\packages\\pythonsoftwarefoundation.python.3.11_qbz5n2kfra8p0\\localcache\\local-packages\\python311\\site-packages (from matplotlib) (3.1.2)\n",
      "Requirement already satisfied: python-dateutil>=2.7 in c:\\users\\alex1\\appdata\\local\\packages\\pythonsoftwarefoundation.python.3.11_qbz5n2kfra8p0\\localcache\\local-packages\\python311\\site-packages (from matplotlib) (2.9.0.post0)\n",
      "Requirement already satisfied: six>=1.5 in c:\\users\\alex1\\appdata\\local\\packages\\pythonsoftwarefoundation.python.3.11_qbz5n2kfra8p0\\localcache\\local-packages\\python311\\site-packages (from python-dateutil>=2.7->matplotlib) (1.16.0)\n"
     ]
    },
    {
     "name": "stderr",
     "output_type": "stream",
     "text": [
      "\n",
      "[notice] A new release of pip is available: 24.0 -> 25.0\n",
      "[notice] To update, run: C:\\Users\\alex1\\AppData\\Local\\Microsoft\\WindowsApps\\PythonSoftwareFoundation.Python.3.11_qbz5n2kfra8p0\\python.exe -m pip install --upgrade pip\n"
     ]
    },
    {
     "name": "stdout",
     "output_type": "stream",
     "text": [
      "Collecting graphviz\n",
      "  Downloading graphviz-0.20.3-py3-none-any.whl.metadata (12 kB)\n",
      "Downloading graphviz-0.20.3-py3-none-any.whl (47 kB)\n",
      "   ---------------------------------------- 0.0/47.1 kB ? eta -:--:--\n",
      "   -------- ------------------------------- 10.2/47.1 kB ? eta -:--:--\n",
      "   ---------------------------------- ----- 41.0/47.1 kB 991.0 kB/s eta 0:00:01\n",
      "   ---------------------------------------- 47.1/47.1 kB 801.9 kB/s eta 0:00:00\n",
      "Installing collected packages: graphviz\n",
      "Successfully installed graphviz-0.20.3\n"
     ]
    },
    {
     "name": "stderr",
     "output_type": "stream",
     "text": [
      "\n",
      "[notice] A new release of pip is available: 24.0 -> 25.0\n",
      "[notice] To update, run: C:\\Users\\alex1\\AppData\\Local\\Microsoft\\WindowsApps\\PythonSoftwareFoundation.Python.3.11_qbz5n2kfra8p0\\python.exe -m pip install --upgrade pip\n"
     ]
    },
    {
     "name": "stdout",
     "output_type": "stream",
     "text": [
      "Collecting pydotplus\n",
      "  Downloading pydotplus-2.0.2.tar.gz (278 kB)\n",
      "     ---------------------------------------- 0.0/278.7 kB ? eta -:--:--\n",
      "     - -------------------------------------- 10.2/278.7 kB ? eta -:--:--\n",
      "     -- ---------------------------------- 20.5/278.7 kB 330.3 kB/s eta 0:00:01\n",
      "     ---- -------------------------------- 30.7/278.7 kB 262.6 kB/s eta 0:00:01\n",
      "     ------------ ------------------------ 92.2/278.7 kB 585.1 kB/s eta 0:00:01\n",
      "     -------------------------------------  276.5/278.7 kB 1.5 MB/s eta 0:00:01\n",
      "     -------------------------------------- 278.7/278.7 kB 1.4 MB/s eta 0:00:00\n",
      "  Installing build dependencies: started\n",
      "  Installing build dependencies: finished with status 'done'\n",
      "  Getting requirements to build wheel: started\n",
      "  Getting requirements to build wheel: finished with status 'done'\n",
      "  Preparing metadata (pyproject.toml): started\n",
      "  Preparing metadata (pyproject.toml): finished with status 'done'\n",
      "Requirement already satisfied: pyparsing>=2.0.1 in c:\\users\\alex1\\appdata\\local\\packages\\pythonsoftwarefoundation.python.3.11_qbz5n2kfra8p0\\localcache\\local-packages\\python311\\site-packages (from pydotplus) (3.1.2)\n",
      "Building wheels for collected packages: pydotplus\n",
      "  Building wheel for pydotplus (pyproject.toml): started\n",
      "  Building wheel for pydotplus (pyproject.toml): finished with status 'done'\n",
      "  Created wheel for pydotplus: filename=pydotplus-2.0.2-py3-none-any.whl size=24626 sha256=9ec0d6ee76a339f4701bf6662bf1bedcfd0ee02282ee5cebc6e92e06a71c3366\n",
      "  Stored in directory: c:\\users\\alex1\\appdata\\local\\packages\\pythonsoftwarefoundation.python.3.11_qbz5n2kfra8p0\\localcache\\local\\pip\\cache\\wheels\\bd\\ce\\e8\\ff9d9c699514922f57caa22fbd55b0a32761114b4c4acc9e03\n",
      "Successfully built pydotplus\n",
      "Installing collected packages: pydotplus\n",
      "Successfully installed pydotplus-2.0.2\n"
     ]
    },
    {
     "name": "stderr",
     "output_type": "stream",
     "text": [
      "\n",
      "[notice] A new release of pip is available: 24.0 -> 25.0\n",
      "[notice] To update, run: C:\\Users\\alex1\\AppData\\Local\\Microsoft\\WindowsApps\\PythonSoftwareFoundation.Python.3.11_qbz5n2kfra8p0\\python.exe -m pip install --upgrade pip\n"
     ]
    }
   ],
   "source": [
    "!pip3 install numpy \n",
    "!pip3 install SPARQLWrapper\n",
    "!pip3 install scikit-learn\n",
    "!pip3 install PIL\n",
    "!pip3 install pandas\n",
    "!pip3 install webcolors\n",
    "!pip3 install matplotlib\n",
    "!pip3 install graphviz \n",
    "!pip3 install pydotplus"
   ]
  },
  {
   "cell_type": "markdown",
   "metadata": {},
   "source": [
    "import os\n",
    "import sys\n",
    "import json\n",
    "import urllib\n",
    "import shutil\n",
    "import random\n",
    "import time\n",
    "import pandas as pd\n",
    "import webcolors\n",
    "import numpy as np\n",
    "import requests\n",
    "import matplotlib.pyplot as plt\n",
    "import matplotlib.colors as mcl\n",
    "from SPARQLWrapper import SPARQLWrapper, JSON\n",
    "from PIL import Image\n",
    "from sklearn.cluster import KMeans, MiniBatchKMeans\n",
    "from sklearn.preprocessing import MultiLabelBinarizer, LabelEncoder, StandardScaler\n",
    "from sklearn.svm import SVC\n",
    "from sklearn import tree\n",
    "from sklearn.tree import DecisionTreeClassifier\n",
    "from sklearn.ensemble import RandomForestClassifier\n",
    "from sklearn.metrics import classification_report\n",
    "import graphviz\n",
    "import pydotplus\n",
    "from urllib.error import HTTPError\n",
    "from mpl_toolkits.mplot3d import Axes3D\n",
    "from sklearn.model_selection import train_test_split"
   ]
  },
  {
   "cell_type": "code",
   "execution_count": 3,
   "metadata": {},
   "outputs": [
    {
     "name": "stdout",
     "output_type": "stream",
     "text": [
      "Dossier images déjà existant !\n",
      "{'Q8501-Q4022': {}, 'Q8505-Q4022': {}, 'Q8510-Q4022': {}, 'Q8515-Q4022': {}, 'Q8519-Q4022': {}, 'Q8526-Q4022': {}, 'Q8534-Q4022': {}, 'Q8542-Q4022': {}, 'Q8550-Q4022': {}, 'Q8553-Q4022': {}, 'Q8637-Q4022': {}, 'Q8642-Q4022': {}, 'Q10675-Q4022': {}, 'Q10965-Q4022': {}, 'Q13130-Q4022': {}, 'Q13655-Q4022': {}, 'Q13667-Q4022': {}, 'Q13696-Q4022': {}, 'Q13712-Q4022': {}, 'Q13762-Q4022': {}, 'Q14071-Q4022': {}, 'Q14087-Q4022': {}, 'Q14269-Q4022': {}, 'Q14290-Q4022': {}}\n"
     ]
    }
   ],
   "source": [
    "import os\n",
    "import sys\n",
    "import json\n",
    "import urllib\n",
    "import shutil\n",
    "import random\n",
    "import time\n",
    "import pandas as pd\n",
    "import webcolors\n",
    "import numpy as np\n",
    "import requests\n",
    "import matplotlib.pyplot as plt\n",
    "import matplotlib.colors as mcl\n",
    "from SPARQLWrapper import SPARQLWrapper, JSON\n",
    "from PIL import Image\n",
    "from sklearn.cluster import KMeans, MiniBatchKMeans\n",
    "from sklearn.preprocessing import MultiLabelBinarizer, LabelEncoder, StandardScaler\n",
    "from sklearn.svm import SVC\n",
    "from sklearn import tree\n",
    "from sklearn.tree import DecisionTreeClassifier\n",
    "from sklearn.ensemble import RandomForestClassifier\n",
    "from sklearn.metrics import classification_report\n",
    "import graphviz\n",
    "import pydotplus\n",
    "from urllib.error import HTTPError\n",
    "from mpl_toolkits.mplot3d import Axes3D\n",
    "from sklearn.model_selection import train_test_split\n",
    "\n",
    "endpoint_url = \"https://query.wikidata.org/sparql\"\n",
    "img_data = {}\n",
    "\n",
    "# Requête pour récupérer les infos de l'entité donnée - Q144/Chien par défaut\n",
    "def query(wd='Q144', limit=5):\n",
    "    return f\"\"\"SELECT ?item ?itemLabel ?pic\n",
    "                WHERE {{\n",
    "                  ?item wdt:P31 wd:{wd}.\n",
    "                  ?item wdt:P18 ?pic.\n",
    "                  SERVICE wikibase:label {{ bd:serviceParam wikibase:language \"[AUTO_LANGUAGE],en\". }}\n",
    "                }}\n",
    "                LIMIT {limit}\"\"\"\n",
    "\n",
    "def get_results(endpoint_url, query):\n",
    "    user_agent = \"WDQS-example Python/%s.%s\" % (\n",
    "        sys.version_info[0],\n",
    "        sys.version_info[1],\n",
    "    )\n",
    "    sparql = SPARQLWrapper(endpoint_url, agent=user_agent)\n",
    "    sparql.setQuery(query)\n",
    "    sparql.setReturnFormat(JSON)\n",
    "    \n",
    "    # Boucle de tentative en cas d'erreur 429 Too Many Requests\n",
    "    for i in range(3):\n",
    "        try:\n",
    "            return sparql.query().convert()\n",
    "        except HTTPError as e:\n",
    "            if e.response.status_code == 429:\n",
    "                retry_after = int(e.response.headers.get('Retry-After', '90'))\n",
    "                print(f\"Too Many Requests. Tentative dans {retry_after} secondes.\")\n",
    "                sleep(retry_after)\n",
    "            else:\n",
    "                raise e\n",
    "    \n",
    "    raise Exception(\"Nombre maximum de tentatives pour atteindre Wikidata atteint.\")\n",
    "\n",
    "# Pour créer le dossier des images s'il n'existe pas\n",
    "def createFolder(name='images'):\n",
    "    if name not in os.listdir():\n",
    "        os.mkdir(name)\n",
    "    else:\n",
    "        print('Dossier '+name+' déjà existant !')\n",
    "\n",
    "# Pour vérifier si un dossier est vide - évitons de retélécharger des images inutilement.\n",
    "def isEmpty(name='images'):\n",
    "    if len(os.listdir(name)) == 0:\n",
    "        return True\n",
    "    return False\n",
    "\n",
    "# Pour ajouter des éléments à la bdd\n",
    "def addImg(wd, limit):\n",
    "    results = get_results(endpoint_url, query(wd, limit))\n",
    "    for result in results['results']['bindings']:\n",
    "        name_img = result['item']['value'].split(\"/\")[-1] + \"-\" + wd # nom donné aux images téléchargées \"numéro d'image - numéro de catégorie\"\n",
    "        \n",
    "        #img_data[name_img] = {'image': result['pic']['value']}\n",
    "        \n",
    "        img_data[name_img] = {}\n",
    "        downloadImage(result['pic']['value'], name_img)\n",
    "        \n",
    "\n",
    "# Ajoute les images de toutes les entités spécifiées\n",
    "def addAllImg(wd, limit):\n",
    "    for w in wd:\n",
    "        addImg(w, limit)\n",
    "\n",
    "# Pour télécharger l'image d'un élément de la bdd\n",
    "def downloadImage(url, name_img='img0'):\n",
    "    full_path = 'images/' + name_img + '.jpg'\n",
    "    urllib.request.urlretrieve(url, full_path)\n",
    "    time.sleep(1)\n",
    "\n",
    "# Si les images sont déjà téléchargées on initialise le tableau\n",
    "def initAlreadyDownload(namefolder='images'):\n",
    "    for image in os.listdir(namefolder):\n",
    "        #img_data[image.split(\".\")[0]] = {'image': \"\"}\n",
    "        img_data[image.split(\".\")[0]] = {}\n",
    "\n",
    "# Pour télécharger toutes les images - limit par query\n",
    "def downloadAllImages(wd=['Q144'], limit=5):\n",
    "    createFolder()\n",
    "    if not isEmpty():\n",
    "        print('Images déjà téléchargées !')\n",
    "        initAlreadyDownload()\n",
    "        return False\n",
    "    addAllImg(wd, limit)\n",
    "    return True \n",
    "\n",
    "#Supprimer une image du dossier \n",
    "def removeImage(image):\n",
    "    if os.path.isfile('images/'+image):\n",
    "        os.remove('images/'+image)\n",
    "        img_data.pop(image.split(\".\")[0])\n",
    "    else:\n",
    "        shutil.rmtree('images/'+image)\n",
    "\n",
    "bdd = ['Q4022'] #Chien, drapeau, ile, sandwich, peinture, taxon, chat, être humain, riviere\n",
    "downloadAllImages(wd=bdd,limit=25)\n",
    "print(img_data)"
   ]
  },
  {
   "cell_type": "markdown",
   "metadata": {},
   "source": [
    "## Étiquetage et annotation"
   ]
  },
  {
   "cell_type": "code",
   "execution_count": 6,
   "metadata": {},
   "outputs": [],
   "source": [
    "#Obtenir les metas d'une image\n",
    "def getMetaImg(name, imgfile):\n",
    "    #clés Exif\n",
    "    DATE_KEY = 36867\n",
    "    MODEL_KEY = 272\n",
    "    \n",
    "    img_data[name].update({\n",
    "        #'size': [getSizeImg(imgfile.size), imgfile.size],\n",
    "        'size': getSizeImg(imgfile.size),\n",
    "        'orientation': getOrientationImg(imgfile.size),\n",
    "        'format': imgfile.format,\n",
    "    })\n",
    "    \n",
    "    getColorsImg(name, imgfile)\n",
    "    \n",
    "    exif_data = imgfile._getexif()\n",
    "    if exif_data is not None:\n",
    "        if DATE_KEY in exif_data:\n",
    "            img_data[name]['date'] = exif_data[DATE_KEY]\n",
    "        if MODEL_KEY in exif_data:\n",
    "            img_data[name]['model'] = exif_data[MODEL_KEY]\n",
    "\n",
    "def getOrientationImg(size): #(largeur,hauteur)\n",
    "    width,height = size\n",
    "    return \"landscape\" if width > height else \"portrait\" if height > width else \"squared\"\n",
    "    \n",
    "def getSizeImg(size): #(largeur,hauteur)\n",
    "    width,height = size\n",
    "    return \"large\" if width*height>1920*1080 else \"small\" if width*height<640*480 else \"medium\""
   ]
  },
  {
   "cell_type": "markdown",
   "metadata": {},
   "source": [
    "Main Color"
   ]
  },
  {
   "cell_type": "code",
   "execution_count": 5,
   "metadata": {},
   "outputs": [],
   "source": [
    "def getColorsImg(name, imgfile, cluster_nbr=2, n_init=1):\n",
    "    \n",
    "    img_data[name]['colors'] = []\n",
    "    \n",
    "    # Redimensionner l'image pour accélérer le traitement\n",
    "    imgfile = imgfile.resize((int(imgfile.size[0]/2), int(imgfile.size[1]/2)))\n",
    "\n",
    "    # Convertir l'image en un tableau numpy\n",
    "    img_array = np.array(imgfile)\n",
    "    \n",
    "    try:\n",
    "        img_vector = img_array.reshape(-1, 3)\n",
    "\n",
    "        clusters = MiniBatchKMeans(n_clusters=cluster_nbr, n_init=n_init, random_state=69).fit(img_vector) #Random state pour garder la meme seed ppour toutes les images\n",
    "\n",
    "        for i, center in enumerate(clusters.cluster_centers_):\n",
    "            rgb = tuple(map(int, center))\n",
    "        \n",
    "\n",
    "            img_data[name]['colors'].append(rgb)\n",
    "            \n",
    "    except Exception as e:\n",
    "        print('Pas de couleur : {}'.format(e))\n",
    "        #img_data[name]['colors'] = [-1]\n",
    "\n",
    "        \n",
    "def RGBtoName(rgb):\n",
    "    # chercher le nom de couleur correspondant au code RGB\n",
    "    try:\n",
    "        color_name = webcolors.rgb_to_name(rgb)\n",
    "    except ValueError:\n",
    "        # si le nom exact n'est pas trouvé, trouver le nom le plus proche\n",
    "        min_colors = {}\n",
    "        for key, name_ in webcolors.CSS3_HEX_TO_NAMES.items():\n",
    "            r_c, g_c, b_c = webcolors.hex_to_rgb(key)\n",
    "            rd = (r_c - rgb[0]) ** 2\n",
    "            gd = (g_c - rgb[1]) ** 2\n",
    "            bd = (b_c - rgb[2]) ** 2\n",
    "            min_colors[(rd + gd + bd)] = name_\n",
    "        color_name = min_colors[min(min_colors.keys())]\n",
    "    return color_name"
   ]
  },
  {
   "cell_type": "markdown",
   "metadata": {},
   "source": [
    "ALL META"
   ]
  },
  {
   "cell_type": "code",
   "execution_count": 7,
   "metadata": {},
   "outputs": [],
   "source": [
    "def openImgGetMeta(name): #name = 'img.jpg'\n",
    "    try:\n",
    "        with Image.open(\"images/\"+name) as imgfile:\n",
    "            #print(imgfile.size, imgfile.format)\n",
    "            name = name.split(\".\")[0]\n",
    "            getMetaImg(name, imgfile)\n",
    "\n",
    "        imgfile.close()\n",
    "        return True\n",
    "    except FileNotFoundError as e:\n",
    "        print('Impossible de trouver le fichier {}: {}'.format(\"images/\"+name, e))\n",
    "        return False\n",
    "    except Exception as e:\n",
    "        print('Erreur lors de l\\'ouverture de l\\'image {}: {}'.format(\"images/\"+name, e))\n",
    "        removeImage(name)\n",
    "        return False\n",
    "        \n",
    "#Obtenir les metas de toutes nos images    \n",
    "def openGetMetaAllImg(namefolder='images'):\n",
    "    for image in os.listdir(namefolder):\n",
    "        openImgGetMeta(image)\n",
    "\n",
    "openGetMetaAllImg()"
   ]
  }
 ],
 "metadata": {
  "kernelspec": {
   "display_name": "Python 3",
   "language": "python",
   "name": "python3"
  },
  "language_info": {
   "codemirror_mode": {
    "name": "ipython",
    "version": 3
   },
   "file_extension": ".py",
   "mimetype": "text/x-python",
   "name": "python",
   "nbconvert_exporter": "python",
   "pygments_lexer": "ipython3",
   "version": "3.11.9"
  }
 },
 "nbformat": 4,
 "nbformat_minor": 2
}
